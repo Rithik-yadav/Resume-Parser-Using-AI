{
 "cells": [
  {
   "cell_type": "code",
   "execution_count": 6,
   "id": "409fa8ea-dc26-4927-9a72-030162f0193c",
   "metadata": {},
   "outputs": [],
   "source": [
    "import pandas as pd\n",
    "import torch\n",
    "from sklearn.metrics.pairwise import cosine_similarity\n",
    "from transformers import AutoTokenizer, AutoModel"
   ]
  },
  {
   "cell_type": "code",
   "execution_count": 7,
   "id": "ac65518a-c656-445f-bb8f-9c0956ea0b44",
   "metadata": {},
   "outputs": [],
   "source": [
    "data = pd.read_csv(r'C:\\Users\\birdc\\Desktop\\merged.csv')"
   ]
  },
  {
   "cell_type": "code",
   "execution_count": 8,
   "id": "c3ad102d-9036-4b88-8424-73dca30bee6c",
   "metadata": {},
   "outputs": [],
   "source": [
    "# Load pre-trained BERT model and tokenizer\n",
    "tokenizer = AutoTokenizer.from_pretrained(\"bert-base-uncased\")\n",
    "model = AutoModel.from_pretrained(\"bert-base-uncased\")"
   ]
  },
  {
   "cell_type": "code",
   "execution_count": 9,
   "id": "71ea1624-53fd-44fc-b257-fd8b75b62798",
   "metadata": {},
   "outputs": [],
   "source": [
    "# Build the candidate profile by combining relevant columns\n",
    "def build_candidate_profile(row):\n",
    "    profile_parts = [\n",
    "        row['Skills - Proficient'] if 'Skills - Proficient' in row.index else '',\n",
    "        row['Skills - Experienced'] if 'Skills - Experienced' in row.index else '',\n",
    "        row['Skills - Familiar'] if 'Skills - Familiar' in row.index else '',\n",
    "        row['Job Responsibilities (1st Experience)'] if 'Job Responsibilities (1st Experience)' in row.index else '',\n",
    "        row['Project Description (1st Project)'] if 'Project Description (1st Project)' in row.index else '',\n",
    "        row['Project Tech Stack (1st Project)'] if 'Project Tech Stack (1st Project)' in row.index else '',\n",
    "        row['Project Description (2nd Project)'] if 'Project Description (2nd Project)' in row.index else '',\n",
    "        row['Project Tech Stack (2nd Project)'] if 'Project Tech Stack (2nd Project)' in row.index else '',\n",
    "        row['Cumulative GPA'] if 'Cumulative GPA' in row.index else '',\n",
    "        row['Achievements'] if 'Achievements' in row.index else ''\n",
    "    ]  \n",
    "    # Join non-empty parts with spaces\n",
    "    return ' '.join(str(part) for part in profile_parts if part)\n",
    "\n",
    "# Apply the function to each row in the dataset\n",
    "data['candidate_profile'] = data.apply(build_candidate_profile, axis=1)\n"
   ]
  },
  {
   "cell_type": "code",
   "execution_count": 10,
   "id": "16512350-2322-487b-84c0-a5b9e61ffa0e",
   "metadata": {},
   "outputs": [],
   "source": [
    "def get_embeddings(text):\n",
    "    inputs = tokenizer(text, return_tensors=\"pt\", padding=True, truncation=True)\n",
    "    outputs = model(**inputs)\n",
    "    embeddings = outputs.last_hidden_state[:, 0, :]\n",
    "    return embeddings\n"
   ]
  },
  {
   "cell_type": "code",
   "execution_count": 11,
   "id": "29db6780-835c-4e3f-b30c-d250e013016b",
   "metadata": {},
   "outputs": [],
   "source": [
    "def calculate_similarity(job_description, candidate_profile, weight_skills=0.3, weight_experience=0.3,\n",
    "                         weight_projects=0.2, weight_cgpa=0.1, weight_achievements=0.1):\n",
    "    \n",
    "    job_emb = get_embeddings(job_description)\n",
    "    candidate_emb = get_embeddings(candidate_profile)\n",
    "    \n",
    "    # Calculate the similarity score and apply weights\n",
    "    score = cosine_similarity(job_emb.detach().numpy(), candidate_emb.detach().numpy())[0][0]\n",
    "    \n",
    "    # Weighted final score\n",
    "    final_score = (weight_skills * score + \n",
    "                   weight_experience * score + \n",
    "                   weight_projects * score + \n",
    "                   weight_cgpa * score + \n",
    "                   weight_achievements * score)\n",
    "    return final_score\n"
   ]
  },
  {
   "cell_type": "code",
   "execution_count": 12,
   "id": "b656594b-b0cf-423a-8f63-7cf8d9fcde2c",
   "metadata": {},
   "outputs": [
    {
     "name": "stdout",
     "output_type": "stream",
     "text": [
      "                  Name                       Contact Email  similarity_score  \\\n",
      "29       Vaibhav Ahuja           ahujavaibhav825@gmail.com          0.816795   \n",
      "131  Divyanshi Singhal  divyanshi.singhal.20cse@bmu.edu.in          0.807355   \n",
      "124     Deeksha Mandal             mdeeksha.1603@gmail.com          0.806475   \n",
      "142    Himanshu Bhalla        himanshubhalla2002@gmail.com          0.803549   \n",
      "138     Hardikya Gupta     hardikya.gupta.20cse@bmu.edu.in          0.802618   \n",
      "\n",
      "                               Skills - Proficient  \\\n",
      "29                    C/C++, JavaScript, CSS, HTML   \n",
      "131  Java, Python, JavaScript, CSS, HTML, Solidity   \n",
      "124                                   Java, Python   \n",
      "142         ['C/C++', 'JavaScript', 'CSS', 'HTML']   \n",
      "138                                         Python   \n",
      "\n",
      "                     Project Description (1st Project) Cumulative GPA  \\\n",
      "29   Developed a dynamic platform for listing prope...        7.87/10   \n",
      "131  Designed and developed a decentralized P2P car...      8.81/10.0   \n",
      "124  Developed a comprehensive university app in Da...      7.82/10.0   \n",
      "142  Developed a MERN stack application that connec...        9.18/10   \n",
      "138  Designed a user-friendly interface for an appl...      7.35 / 10   \n",
      "\n",
      "                                          Achievements  \n",
      "29   Finalist: Chosen among 11,000 participants as ...  \n",
      "131     Hult Prize Preliminary college round Runner Up  \n",
      "124  Actively engaged in extracurricular, such as h...  \n",
      "142  [\"Achieved an exceptional score of 165/175 in ...  \n",
      "138  Finalist, Demo Day, FPAE; Winner of Niti Manth...  \n"
     ]
    }
   ],
   "source": [
    "def fetch_top_candidates(job_description, top_n=5):\n",
    "    data['similarity_score'] = data['candidate_profile'].apply(\n",
    "        lambda x: calculate_similarity(job_description, x)\n",
    "    )\n",
    "    top_candidates = data.sort_values(by='similarity_score', ascending=False).head(top_n)\n",
    "    return top_candidates[['Name', 'Contact Email', 'similarity_score', 'Skills - Proficient', \n",
    "                           'Project Description (1st Project)', 'Cumulative GPA', 'Achievements']]\n",
    "\n",
    "# Example job description\n",
    "job_description = \"Looking for a software developer skilled in Python, machine learning, and data science, with strong academic background.\"\n",
    "\n",
    "# Fetch and display top 5 candidates\n",
    "top_candidates = fetch_top_candidates(job_description, top_n=5)\n",
    "print(top_candidates)\n"
   ]
  }
 ],
 "metadata": {
  "kernelspec": {
   "display_name": "Python 3 (ipykernel)",
   "language": "python",
   "name": "python3"
  },
  "language_info": {
   "codemirror_mode": {
    "name": "ipython",
    "version": 3
   },
   "file_extension": ".py",
   "mimetype": "text/x-python",
   "name": "python",
   "nbconvert_exporter": "python",
   "pygments_lexer": "ipython3",
   "version": "3.12.6"
  }
 },
 "nbformat": 4,
 "nbformat_minor": 5
}
